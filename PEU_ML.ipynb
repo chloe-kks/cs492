{
  "nbformat": 4,
  "nbformat_minor": 0,
  "metadata": {
    "colab": {
      "name": "PlainML.ipynb",
      "provenance": [],
      "collapsed_sections": []
    },
    "kernelspec": {
      "name": "python3",
      "display_name": "Python 3"
    },
    "accelerator": "GPU"
  },
  "cells": [
    {
      "cell_type": "code",
      "metadata": {
        "id": "fambOuQSc7eb",
        "colab_type": "code",
        "outputId": "42a2cb3c-f576-4b9b-fe11-03111c9b069d",
        "colab": {
          "resources": {
            "http://localhost:8080/nbextensions/google.colab/files.js": {
              "data": "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",
              "ok": true,
              "headers": [
                [
                  "content-type",
                  "application/javascript"
                ]
              ],
              "status": 200,
              "status_text": ""
            }
          },
          "base_uri": "https://localhost:8080/",
          "height": 88
        }
      },
      "source": [
        "import pandas as pd\n",
        "import numpy as np\n",
        "%matplotlib inline\n",
        "import matplotlib.pyplot as plt\n",
        "import math\n",
        "\n",
        "from keras.models import Sequential\n",
        "from keras.layers import Dense\n",
        "from keras.layers import LSTM\n",
        "from keras.layers import GRU\n",
        "from sklearn.preprocessing import MinMaxScaler\n",
        "from sklearn.metrics import mean_squared_error \n",
        "\n",
        "from google.colab import files\n",
        "\n",
        "uploaded = files.upload()\n",
        "\n",
        "for fn in uploaded.keys():\n",
        "  print('User uploaded file \"{name}\" with length {length} bytes'.format(\n",
        "      name=fn, length=len(uploaded[fn])))"
      ],
      "execution_count": 0,
      "outputs": [
        {
          "output_type": "display_data",
          "data": {
            "text/html": [
              "\n",
              "     <input type=\"file\" id=\"files-23014478-1df0-41e1-a0fa-e1ee7cf425c3\" name=\"files[]\" multiple disabled />\n",
              "     <output id=\"result-23014478-1df0-41e1-a0fa-e1ee7cf425c3\">\n",
              "      Upload widget is only available when the cell has been executed in the\n",
              "      current browser session. Please rerun this cell to enable.\n",
              "      </output>\n",
              "      <script src=\"/nbextensions/google.colab/files.js\"></script> "
            ],
            "text/plain": [
              "<IPython.core.display.HTML object>"
            ]
          },
          "metadata": {
            "tags": []
          }
        },
        {
          "output_type": "stream",
          "text": [
            "Saving data.csv to data (5).csv\n",
            "User uploaded file \"data.csv\" with length 29427 bytes\n"
          ],
          "name": "stdout"
        }
      ]
    },
    {
      "cell_type": "markdown",
      "metadata": {
        "id": "3liV8RnntGVE",
        "colab_type": "text"
      },
      "source": [
        "# **DATA Preprocessing**"
      ]
    },
    {
      "cell_type": "code",
      "metadata": {
        "id": "KX6ObW0zdZLl",
        "colab_type": "code",
        "colab": {}
      },
      "source": [
        "df = pd.read_csv(\"data.csv\", usecols=[0], parse_dates=True)\n",
        "# 종로구가 아닌 다른 구를 예측하려면 usecols=[1, 2, 3, ... , 25]로 바꾸기\n",
        "dataset = df.values"
      ],
      "execution_count": 0,
      "outputs": []
    },
    {
      "cell_type": "code",
      "metadata": {
        "id": "sU8EMVz_dcIo",
        "colab_type": "code",
        "colab": {}
      },
      "source": [
        "scaler = MinMaxScaler(feature_range=(0,1))\n",
        "dataset = scaler.fit_transform(dataset)"
      ],
      "execution_count": 0,
      "outputs": []
    },
    {
      "cell_type": "code",
      "metadata": {
        "id": "4RaAoCYDgGzo",
        "colab_type": "code",
        "colab": {}
      },
      "source": [
        "train_size = int(len(dataset) * 0.7)\n",
        "test_size = len(dataset) - train_size\n",
        "train, test = dataset[0:train_size,:], dataset[train_size:len(dataset),:]"
      ],
      "execution_count": 0,
      "outputs": []
    },
    {
      "cell_type": "markdown",
      "metadata": {
        "id": "37mK5K4BuYJT",
        "colab_type": "text"
      },
      "source": [
        "**Normalized**"
      ]
    },
    {
      "cell_type": "code",
      "metadata": {
        "id": "vvqhzpC0Hm3J",
        "colab_type": "code",
        "colab": {}
      },
      "source": [
        "def create_dataset(dataset, look_back = 1):\n",
        "  dataX, dataY = [], []\n",
        "  for i in range(len(dataset) - look_back-1):\n",
        "    a = dataset[i:(i+look_back), 0]\n",
        "    dataX.append(a)\n",
        "    dataY.append(dataset[i + look_back, 0])\n",
        "  return np.array(dataX), np.array(dataY)"
      ],
      "execution_count": 0,
      "outputs": []
    },
    {
      "cell_type": "code",
      "metadata": {
        "id": "OeUu7BsfilHi",
        "colab_type": "code",
        "colab": {}
      },
      "source": [
        "look_back = 1\n",
        "trainX, trainY = create_dataset(train, look_back)\n",
        "testX, testY = create_dataset(test, look_back)"
      ],
      "execution_count": 0,
      "outputs": []
    },
    {
      "cell_type": "code",
      "metadata": {
        "id": "L1Uke9J1i0u0",
        "colab_type": "code",
        "colab": {}
      },
      "source": [
        "trainX = np.reshape(trainX, (trainX.shape[0], trainX.shape[1], 1))\n",
        "testX = np.reshape(testX, (testX.shape[0], testX.shape[1], 1))"
      ],
      "execution_count": 0,
      "outputs": []
    },
    {
      "cell_type": "markdown",
      "metadata": {
        "id": "UzIyZxk3tNHP",
        "colab_type": "text"
      },
      "source": [
        "# **Modeling**"
      ]
    },
    {
      "cell_type": "code",
      "metadata": {
        "id": "9AUEh2YRlJqu",
        "colab_type": "code",
        "outputId": "7c2b6c70-1ff6-4de7-c0ea-4b427d162556",
        "colab": {
          "base_uri": "https://localhost:8080/",
          "height": 309
        }
      },
      "source": [
        "model = Sequential(name=\"LSTM_32dim\")\n",
        "model.add(LSTM(32, input_dim = look_back))\n",
        "# model = Sequential(name=\"GRU_4dim\")\n",
        "# model.add(LGRU(32, input_dim = look_back))\n",
        "model.add(Dense(1))\n",
        "model.compile(loss='mean_squared_error', optimizer='adam')\n",
        "\n",
        "model.summary()"
      ],
      "execution_count": 0,
      "outputs": [
        {
          "output_type": "stream",
          "text": [
            "/usr/local/lib/python3.6/dist-packages/ipykernel_launcher.py:2: UserWarning: The `input_dim` and `input_length` arguments in recurrent layers are deprecated. Use `input_shape` instead.\n",
            "  \n",
            "/usr/local/lib/python3.6/dist-packages/ipykernel_launcher.py:2: UserWarning: Update your `LSTM` call to the Keras 2 API: `LSTM(32, input_shape=(None, 1))`\n",
            "  \n"
          ],
          "name": "stderr"
        },
        {
          "output_type": "stream",
          "text": [
            "Model: \"LSTM_32dim\"\n",
            "_________________________________________________________________\n",
            "Layer (type)                 Output Shape              Param #   \n",
            "=================================================================\n",
            "lstm_2 (LSTM)                (None, 32)                4352      \n",
            "_________________________________________________________________\n",
            "dense_2 (Dense)              (None, 1)                 33        \n",
            "=================================================================\n",
            "Total params: 4,385\n",
            "Trainable params: 4,385\n",
            "Non-trainable params: 0\n",
            "_________________________________________________________________\n"
          ],
          "name": "stdout"
        }
      ]
    },
    {
      "cell_type": "code",
      "metadata": {
        "id": "vFEu6blGL_44",
        "colab_type": "code",
        "outputId": "56601548-1350-4ac3-b029-060bb5cc982e",
        "colab": {
          "base_uri": "https://localhost:8080/",
          "height": 1000
        }
      },
      "source": [
        "model.fit(trainX, trainY, epochs=100, batch_size=5, verbose=2)"
      ],
      "execution_count": 0,
      "outputs": [
        {
          "output_type": "stream",
          "text": [
            "Epoch 1/100\n",
            " - 1s - loss: 0.0350\n",
            "Epoch 2/100\n",
            " - 0s - loss: 0.0195\n",
            "Epoch 3/100\n",
            " - 0s - loss: 0.0146\n",
            "Epoch 4/100\n",
            " - 0s - loss: 0.0138\n",
            "Epoch 5/100\n",
            " - 0s - loss: 0.0134\n",
            "Epoch 6/100\n",
            " - 0s - loss: 0.0128\n",
            "Epoch 7/100\n",
            " - 0s - loss: 0.0124\n",
            "Epoch 8/100\n",
            " - 0s - loss: 0.0118\n",
            "Epoch 9/100\n",
            " - 0s - loss: 0.0113\n",
            "Epoch 10/100\n",
            " - 0s - loss: 0.0109\n",
            "Epoch 11/100\n",
            " - 0s - loss: 0.0106\n",
            "Epoch 12/100\n",
            " - 0s - loss: 0.0102\n",
            "Epoch 13/100\n",
            " - 0s - loss: 0.0100\n",
            "Epoch 14/100\n",
            " - 0s - loss: 0.0097\n",
            "Epoch 15/100\n",
            " - 0s - loss: 0.0095\n",
            "Epoch 16/100\n",
            " - 0s - loss: 0.0093\n",
            "Epoch 17/100\n",
            " - 0s - loss: 0.0091\n",
            "Epoch 18/100\n",
            " - 0s - loss: 0.0090\n",
            "Epoch 19/100\n",
            " - 0s - loss: 0.0089\n",
            "Epoch 20/100\n",
            " - 0s - loss: 0.0088\n",
            "Epoch 21/100\n",
            " - 0s - loss: 0.0087\n",
            "Epoch 22/100\n",
            " - 0s - loss: 0.0087\n",
            "Epoch 23/100\n",
            " - 0s - loss: 0.0086\n",
            "Epoch 24/100\n",
            " - 0s - loss: 0.0085\n",
            "Epoch 25/100\n",
            " - 0s - loss: 0.0086\n",
            "Epoch 26/100\n",
            " - 0s - loss: 0.0085\n",
            "Epoch 27/100\n",
            " - 0s - loss: 0.0086\n",
            "Epoch 28/100\n",
            " - 0s - loss: 0.0086\n",
            "Epoch 29/100\n",
            " - 0s - loss: 0.0088\n",
            "Epoch 30/100\n",
            " - 0s - loss: 0.0086\n",
            "Epoch 31/100\n",
            " - 0s - loss: 0.0085\n",
            "Epoch 32/100\n",
            " - 0s - loss: 0.0085\n",
            "Epoch 33/100\n",
            " - 0s - loss: 0.0087\n",
            "Epoch 34/100\n",
            " - 0s - loss: 0.0085\n",
            "Epoch 35/100\n",
            " - 0s - loss: 0.0085\n",
            "Epoch 36/100\n",
            " - 0s - loss: 0.0088\n",
            "Epoch 37/100\n",
            " - 0s - loss: 0.0085\n",
            "Epoch 38/100\n",
            " - 0s - loss: 0.0085\n",
            "Epoch 39/100\n",
            " - 0s - loss: 0.0085\n",
            "Epoch 40/100\n",
            " - 0s - loss: 0.0085\n",
            "Epoch 41/100\n",
            " - 0s - loss: 0.0087\n",
            "Epoch 42/100\n",
            " - 0s - loss: 0.0086\n",
            "Epoch 43/100\n",
            " - 0s - loss: 0.0086\n",
            "Epoch 44/100\n",
            " - 0s - loss: 0.0085\n",
            "Epoch 45/100\n",
            " - 0s - loss: 0.0086\n",
            "Epoch 46/100\n",
            " - 0s - loss: 0.0086\n",
            "Epoch 47/100\n",
            " - 0s - loss: 0.0085\n",
            "Epoch 48/100\n",
            " - 0s - loss: 0.0086\n",
            "Epoch 49/100\n",
            " - 0s - loss: 0.0085\n",
            "Epoch 50/100\n",
            " - 0s - loss: 0.0086\n",
            "Epoch 51/100\n",
            " - 0s - loss: 0.0085\n",
            "Epoch 52/100\n",
            " - 0s - loss: 0.0088\n",
            "Epoch 53/100\n",
            " - 0s - loss: 0.0087\n",
            "Epoch 54/100\n",
            " - 0s - loss: 0.0086\n",
            "Epoch 55/100\n",
            " - 0s - loss: 0.0085\n",
            "Epoch 56/100\n",
            " - 0s - loss: 0.0085\n",
            "Epoch 57/100\n",
            " - 0s - loss: 0.0086\n",
            "Epoch 58/100\n",
            " - 0s - loss: 0.0085\n",
            "Epoch 59/100\n",
            " - 0s - loss: 0.0086\n",
            "Epoch 60/100\n",
            " - 0s - loss: 0.0086\n",
            "Epoch 61/100\n",
            " - 0s - loss: 0.0085\n",
            "Epoch 62/100\n",
            " - 0s - loss: 0.0085\n",
            "Epoch 63/100\n",
            " - 0s - loss: 0.0086\n",
            "Epoch 64/100\n",
            " - 0s - loss: 0.0085\n",
            "Epoch 65/100\n",
            " - 0s - loss: 0.0085\n",
            "Epoch 66/100\n",
            " - 0s - loss: 0.0085\n",
            "Epoch 67/100\n",
            " - 0s - loss: 0.0085\n",
            "Epoch 68/100\n",
            " - 0s - loss: 0.0086\n",
            "Epoch 69/100\n",
            " - 0s - loss: 0.0085\n",
            "Epoch 70/100\n",
            " - 0s - loss: 0.0086\n",
            "Epoch 71/100\n",
            " - 0s - loss: 0.0086\n",
            "Epoch 72/100\n",
            " - 0s - loss: 0.0085\n",
            "Epoch 73/100\n",
            " - 0s - loss: 0.0085\n",
            "Epoch 74/100\n",
            " - 0s - loss: 0.0085\n",
            "Epoch 75/100\n",
            " - 0s - loss: 0.0087\n",
            "Epoch 76/100\n",
            " - 0s - loss: 0.0085\n",
            "Epoch 77/100\n",
            " - 0s - loss: 0.0086\n",
            "Epoch 78/100\n",
            " - 0s - loss: 0.0085\n",
            "Epoch 79/100\n",
            " - 0s - loss: 0.0087\n",
            "Epoch 80/100\n",
            " - 0s - loss: 0.0087\n",
            "Epoch 81/100\n",
            " - 0s - loss: 0.0085\n",
            "Epoch 82/100\n",
            " - 0s - loss: 0.0086\n",
            "Epoch 83/100\n",
            " - 0s - loss: 0.0085\n",
            "Epoch 84/100\n",
            " - 0s - loss: 0.0085\n",
            "Epoch 85/100\n",
            " - 0s - loss: 0.0087\n",
            "Epoch 86/100\n",
            " - 0s - loss: 0.0085\n",
            "Epoch 87/100\n",
            " - 0s - loss: 0.0086\n",
            "Epoch 88/100\n",
            " - 0s - loss: 0.0086\n",
            "Epoch 89/100\n",
            " - 0s - loss: 0.0086\n",
            "Epoch 90/100\n",
            " - 0s - loss: 0.0086\n",
            "Epoch 91/100\n",
            " - 0s - loss: 0.0085\n",
            "Epoch 92/100\n",
            " - 0s - loss: 0.0087\n",
            "Epoch 93/100\n",
            " - 0s - loss: 0.0086\n",
            "Epoch 94/100\n",
            " - 0s - loss: 0.0085\n",
            "Epoch 95/100\n",
            " - 0s - loss: 0.0087\n",
            "Epoch 96/100\n",
            " - 0s - loss: 0.0084\n",
            "Epoch 97/100\n",
            " - 0s - loss: 0.0086\n",
            "Epoch 98/100\n",
            " - 0s - loss: 0.0085\n",
            "Epoch 99/100\n",
            " - 0s - loss: 0.0086\n",
            "Epoch 100/100\n",
            " - 0s - loss: 0.0087\n"
          ],
          "name": "stdout"
        },
        {
          "output_type": "execute_result",
          "data": {
            "text/plain": [
              "<keras.callbacks.History at 0x7f82e003b3c8>"
            ]
          },
          "metadata": {
            "tags": []
          },
          "execution_count": 34
        }
      ]
    },
    {
      "cell_type": "markdown",
      "metadata": {
        "id": "n4YDJPm0tSfQ",
        "colab_type": "text"
      },
      "source": [
        "# **Evaluation**"
      ]
    },
    {
      "cell_type": "markdown",
      "metadata": {
        "id": "Z1RFa-_jtm3t",
        "colab_type": "text"
      },
      "source": [
        "**Predict**"
      ]
    },
    {
      "cell_type": "code",
      "metadata": {
        "id": "jYI2XBVHj-Z2",
        "colab_type": "code",
        "colab": {}
      },
      "source": [
        "trainPred = model.predict(trainX)\n",
        "testPred = model.predict(testX)"
      ],
      "execution_count": 0,
      "outputs": []
    },
    {
      "cell_type": "code",
      "metadata": {
        "id": "WUrJsAB3kXaG",
        "colab_type": "code",
        "colab": {}
      },
      "source": [
        "trainPred = scaler.inverse_transform(trainPred)\n",
        "trainY = scaler.inverse_transform([trainY])\n",
        "testPred = scaler.inverse_transform(testPred)\n",
        "testY = scaler.inverse_transform([testY])"
      ],
      "execution_count": 0,
      "outputs": []
    },
    {
      "cell_type": "markdown",
      "metadata": {
        "id": "zL3Nwqkvtcdz",
        "colab_type": "text"
      },
      "source": [
        "**RMSE Score**"
      ]
    },
    {
      "cell_type": "code",
      "metadata": {
        "id": "TOL45EZ9mVOX",
        "colab_type": "code",
        "outputId": "3a724513-3ce7-4647-fb99-1cbf7f38234b",
        "colab": {
          "base_uri": "https://localhost:8080/",
          "height": 51
        }
      },
      "source": [
        "trainScore = math.sqrt(mean_squared_error(trainY[0], trainPred[:, 0]))\n",
        "print(\"Train Score: %.2f RMSE\" % (trainScore))\n",
        "testScore = math.sqrt(mean_squared_error(testY[0], testPred[:,0]))\n",
        "print(\"Test Score: %.2f RMSE\" % (testScore))"
      ],
      "execution_count": 0,
      "outputs": [
        {
          "output_type": "stream",
          "text": [
            "Train Score: 1564.53 RMSE\n",
            "Test Score: 2837.06 RMSE\n"
          ],
          "name": "stdout"
        }
      ]
    },
    {
      "cell_type": "markdown",
      "metadata": {
        "id": "EnEpOBDethtC",
        "colab_type": "text"
      },
      "source": [
        "**Prediction Graph**"
      ]
    },
    {
      "cell_type": "code",
      "metadata": {
        "id": "-tuPXlaNkiiG",
        "colab_type": "code",
        "colab": {}
      },
      "source": [
        "trainPredPlot = np.empty_like(dataset)\n",
        "trainPredPlot[:, :] = np.nan\n",
        "trainPredPlot[look_back:len(trainPred)+look_back, :] = trainPred"
      ],
      "execution_count": 0,
      "outputs": []
    },
    {
      "cell_type": "code",
      "metadata": {
        "id": "bxStcS38vllH",
        "colab_type": "code",
        "colab": {}
      },
      "source": [
        "testPredPlot = np.empty_like(dataset)\n",
        "testPredPlot[:, :] = np.nan\n",
        "testPredPlot[len(trainPred)+(look_back*2)+1:len(dataset)-1, :] = testPred"
      ],
      "execution_count": 0,
      "outputs": []
    },
    {
      "cell_type": "code",
      "metadata": {
        "id": "OGI8cg6hGKIz",
        "colab_type": "code",
        "outputId": "5faceac3-ccd9-4ca9-9757-d27006c3a9e6",
        "colab": {
          "base_uri": "https://localhost:8080/",
          "height": 265
        }
      },
      "source": [
        "plt.plot(scaler.inverse_transform(dataset))\n",
        "plt.plot(trainPredPlot)\n",
        "plt.plot(testPredPlot)\n",
        "plt.show()"
      ],
      "execution_count": 0,
      "outputs": [
        {
          "output_type": "display_data",
          "data": {
            "image/png": "[encoded data removed]",
            "text/plain": [
              "<Figure size 432x288 with 1 Axes>"
            ]
          },
          "metadata": {
            "tags": []
          }
        }
      ]
    }
  ]
}